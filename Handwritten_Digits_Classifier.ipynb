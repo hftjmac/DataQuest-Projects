{
 "cells": [
  {
   "cell_type": "markdown",
   "metadata": {},
   "source": [
    "# Setting up the data"
   ]
  },
  {
   "cell_type": "code",
   "execution_count": 76,
   "metadata": {
    "collapsed": true
   },
   "outputs": [],
   "source": [
    "from sklearn.datasets import load_digits\n",
    "import matplotlib.pyplot as plt\n",
    "import numpy as np\n",
    "import pandas as pd\n",
    "%matplotlib inline\n",
    "\n",
    "digits_data =  load_digits()"
   ]
  },
  {
   "cell_type": "code",
   "execution_count": 77,
   "metadata": {
    "collapsed": false
   },
   "outputs": [
    {
     "data": {
      "text/plain": [
       "dict_keys(['images', 'target', 'target_names', 'data', 'DESCR'])"
      ]
     },
     "execution_count": 77,
     "metadata": {},
     "output_type": "execute_result"
    }
   ],
   "source": [
    "digits_data.keys()"
   ]
  },
  {
   "cell_type": "code",
   "execution_count": 78,
   "metadata": {
    "collapsed": false
   },
   "outputs": [],
   "source": [
    "labels = pd.Series(digits_data['target'])"
   ]
  },
  {
   "cell_type": "code",
   "execution_count": 79,
   "metadata": {
    "collapsed": false
   },
   "outputs": [],
   "source": [
    "data = pd.DataFrame(digits_data['data'])"
   ]
  },
  {
   "cell_type": "code",
   "execution_count": 80,
   "metadata": {
    "collapsed": false
   },
   "outputs": [
    {
     "data": {
      "text/html": [
       "<div>\n",
       "<style scoped>\n",
       "    .dataframe tbody tr th:only-of-type {\n",
       "        vertical-align: middle;\n",
       "    }\n",
       "\n",
       "    .dataframe tbody tr th {\n",
       "        vertical-align: top;\n",
       "    }\n",
       "\n",
       "    .dataframe thead th {\n",
       "        text-align: right;\n",
       "    }\n",
       "</style>\n",
       "<table border=\"1\" class=\"dataframe\">\n",
       "  <thead>\n",
       "    <tr style=\"text-align: right;\">\n",
       "      <th></th>\n",
       "      <th>0</th>\n",
       "      <th>1</th>\n",
       "      <th>2</th>\n",
       "      <th>3</th>\n",
       "      <th>4</th>\n",
       "      <th>5</th>\n",
       "      <th>6</th>\n",
       "      <th>7</th>\n",
       "      <th>8</th>\n",
       "      <th>9</th>\n",
       "      <th>...</th>\n",
       "      <th>54</th>\n",
       "      <th>55</th>\n",
       "      <th>56</th>\n",
       "      <th>57</th>\n",
       "      <th>58</th>\n",
       "      <th>59</th>\n",
       "      <th>60</th>\n",
       "      <th>61</th>\n",
       "      <th>62</th>\n",
       "      <th>63</th>\n",
       "    </tr>\n",
       "  </thead>\n",
       "  <tbody>\n",
       "    <tr>\n",
       "      <th>0</th>\n",
       "      <td>0.0</td>\n",
       "      <td>0.0</td>\n",
       "      <td>5.0</td>\n",
       "      <td>13.0</td>\n",
       "      <td>9.0</td>\n",
       "      <td>1.0</td>\n",
       "      <td>0.0</td>\n",
       "      <td>0.0</td>\n",
       "      <td>0.0</td>\n",
       "      <td>0.0</td>\n",
       "      <td>...</td>\n",
       "      <td>0.0</td>\n",
       "      <td>0.0</td>\n",
       "      <td>0.0</td>\n",
       "      <td>0.0</td>\n",
       "      <td>6.0</td>\n",
       "      <td>13.0</td>\n",
       "      <td>10.0</td>\n",
       "      <td>0.0</td>\n",
       "      <td>0.0</td>\n",
       "      <td>0.0</td>\n",
       "    </tr>\n",
       "    <tr>\n",
       "      <th>1</th>\n",
       "      <td>0.0</td>\n",
       "      <td>0.0</td>\n",
       "      <td>0.0</td>\n",
       "      <td>12.0</td>\n",
       "      <td>13.0</td>\n",
       "      <td>5.0</td>\n",
       "      <td>0.0</td>\n",
       "      <td>0.0</td>\n",
       "      <td>0.0</td>\n",
       "      <td>0.0</td>\n",
       "      <td>...</td>\n",
       "      <td>0.0</td>\n",
       "      <td>0.0</td>\n",
       "      <td>0.0</td>\n",
       "      <td>0.0</td>\n",
       "      <td>0.0</td>\n",
       "      <td>11.0</td>\n",
       "      <td>16.0</td>\n",
       "      <td>10.0</td>\n",
       "      <td>0.0</td>\n",
       "      <td>0.0</td>\n",
       "    </tr>\n",
       "    <tr>\n",
       "      <th>2</th>\n",
       "      <td>0.0</td>\n",
       "      <td>0.0</td>\n",
       "      <td>0.0</td>\n",
       "      <td>4.0</td>\n",
       "      <td>15.0</td>\n",
       "      <td>12.0</td>\n",
       "      <td>0.0</td>\n",
       "      <td>0.0</td>\n",
       "      <td>0.0</td>\n",
       "      <td>0.0</td>\n",
       "      <td>...</td>\n",
       "      <td>5.0</td>\n",
       "      <td>0.0</td>\n",
       "      <td>0.0</td>\n",
       "      <td>0.0</td>\n",
       "      <td>0.0</td>\n",
       "      <td>3.0</td>\n",
       "      <td>11.0</td>\n",
       "      <td>16.0</td>\n",
       "      <td>9.0</td>\n",
       "      <td>0.0</td>\n",
       "    </tr>\n",
       "    <tr>\n",
       "      <th>3</th>\n",
       "      <td>0.0</td>\n",
       "      <td>0.0</td>\n",
       "      <td>7.0</td>\n",
       "      <td>15.0</td>\n",
       "      <td>13.0</td>\n",
       "      <td>1.0</td>\n",
       "      <td>0.0</td>\n",
       "      <td>0.0</td>\n",
       "      <td>0.0</td>\n",
       "      <td>8.0</td>\n",
       "      <td>...</td>\n",
       "      <td>9.0</td>\n",
       "      <td>0.0</td>\n",
       "      <td>0.0</td>\n",
       "      <td>0.0</td>\n",
       "      <td>7.0</td>\n",
       "      <td>13.0</td>\n",
       "      <td>13.0</td>\n",
       "      <td>9.0</td>\n",
       "      <td>0.0</td>\n",
       "      <td>0.0</td>\n",
       "    </tr>\n",
       "    <tr>\n",
       "      <th>4</th>\n",
       "      <td>0.0</td>\n",
       "      <td>0.0</td>\n",
       "      <td>0.0</td>\n",
       "      <td>1.0</td>\n",
       "      <td>11.0</td>\n",
       "      <td>0.0</td>\n",
       "      <td>0.0</td>\n",
       "      <td>0.0</td>\n",
       "      <td>0.0</td>\n",
       "      <td>0.0</td>\n",
       "      <td>...</td>\n",
       "      <td>0.0</td>\n",
       "      <td>0.0</td>\n",
       "      <td>0.0</td>\n",
       "      <td>0.0</td>\n",
       "      <td>0.0</td>\n",
       "      <td>2.0</td>\n",
       "      <td>16.0</td>\n",
       "      <td>4.0</td>\n",
       "      <td>0.0</td>\n",
       "      <td>0.0</td>\n",
       "    </tr>\n",
       "  </tbody>\n",
       "</table>\n",
       "<p>5 rows × 64 columns</p>\n",
       "</div>"
      ],
      "text/plain": [
       "    0    1    2     3     4     5    6    7    8    9  ...    54   55   56  \\\n",
       "0  0.0  0.0  5.0  13.0   9.0   1.0  0.0  0.0  0.0  0.0 ...   0.0  0.0  0.0   \n",
       "1  0.0  0.0  0.0  12.0  13.0   5.0  0.0  0.0  0.0  0.0 ...   0.0  0.0  0.0   \n",
       "2  0.0  0.0  0.0   4.0  15.0  12.0  0.0  0.0  0.0  0.0 ...   5.0  0.0  0.0   \n",
       "3  0.0  0.0  7.0  15.0  13.0   1.0  0.0  0.0  0.0  8.0 ...   9.0  0.0  0.0   \n",
       "4  0.0  0.0  0.0   1.0  11.0   0.0  0.0  0.0  0.0  0.0 ...   0.0  0.0  0.0   \n",
       "\n",
       "    57   58    59    60    61   62   63  \n",
       "0  0.0  6.0  13.0  10.0   0.0  0.0  0.0  \n",
       "1  0.0  0.0  11.0  16.0  10.0  0.0  0.0  \n",
       "2  0.0  0.0   3.0  11.0  16.0  9.0  0.0  \n",
       "3  0.0  7.0  13.0  13.0   9.0  0.0  0.0  \n",
       "4  0.0  0.0   2.0  16.0   4.0  0.0  0.0  \n",
       "\n",
       "[5 rows x 64 columns]"
      ]
     },
     "execution_count": 80,
     "metadata": {},
     "output_type": "execute_result"
    }
   ],
   "source": [
    "data.head()"
   ]
  },
  {
   "cell_type": "code",
   "execution_count": 81,
   "metadata": {
    "collapsed": false
   },
   "outputs": [
    {
     "data": {
      "text/plain": [
       "<matplotlib.image.AxesImage at 0x7f4a5ecc8128>"
      ]
     },
     "execution_count": 81,
     "metadata": {},
     "output_type": "execute_result"
    },
    {
     "data": {
      "image/png": "[encoded data removed]",
      "text/plain": [
       "<matplotlib.figure.Figure at 0x7f4a5ef469e8>"
      ]
     },
     "metadata": {},
     "output_type": "display_data"
    }
   ],
   "source": [
    "f, ax = plt.subplots(2, 4)\n",
    "\n",
    "ax[0,0].imshow(data.iloc[0].values.reshape(8,8), cmap = 'Greys')\n",
    "ax[0,1].imshow(data.iloc[99].values.reshape(8,8), cmap = 'Greys')\n",
    "ax[0,2].imshow(data.iloc[199].values.reshape(8,8), cmap = 'Greys')\n",
    "ax[0,3].imshow(data.iloc[299].values.reshape(8,8), cmap = 'Greys')\n",
    "\n",
    "ax[1,0].imshow(data.iloc[999].values.reshape(8,8), cmap = 'Greys')\n",
    "ax[1,1].imshow(data.iloc[1099].values.reshape(8,8), cmap = 'Greys')\n",
    "ax[1,2].imshow(data.iloc[1199].values.reshape(8,8), cmap = 'Greys')\n",
    "ax[1,3].imshow(data.iloc[1299].values.reshape(8,8), cmap = 'Greys')"
   ]
  },
  {
   "cell_type": "markdown",
   "metadata": {},
   "source": [
    "# Testing different models\n",
    "## K-Nearest Neighbors:"
   ]
  },
  {
   "cell_type": "code",
   "execution_count": 82,
   "metadata": {
    "collapsed": true
   },
   "outputs": [],
   "source": [
    "from sklearn.neighbors import KNeighborsClassifier\n",
    "from sklearn.model_selection import KFold\n",
    "from sklearn.metrics import accuracy_score"
   ]
  },
  {
   "cell_type": "code",
   "execution_count": 83,
   "metadata": {
    "collapsed": false
   },
   "outputs": [],
   "source": [
    "def train_knn(NumNeighbors, train_features, train_labels):\n",
    "    knn = KNeighborsClassifier(n_neighbors = NumNeighbors)\n",
    "    knn.fit(train_features, train_labels)\n",
    "    return knn"
   ]
  },
  {
   "cell_type": "code",
   "execution_count": 84,
   "metadata": {
    "collapsed": true
   },
   "outputs": [],
   "source": [
    "def test(model, test_features, test_labels):\n",
    "    predictions = model.predict(test_features)\n",
    "    accuracy = accuracy_score(test_labels, predictions)\n",
    "    return accuracy"
   ]
  },
  {
   "cell_type": "code",
   "execution_count": 85,
   "metadata": {
    "collapsed": true
   },
   "outputs": [],
   "source": [
    "def cross_validate(k):\n",
    "    train_accuracies = []\n",
    "    test_accuracies = []\n",
    "    kf = KFold(n_splits=4, random_state=2)\n",
    "    for train_index, test_index in kf.split(data):\n",
    "        train_features = data.loc[train_index]\n",
    "        test_features = data.loc[test_index]\n",
    "        \n",
    "        train_labels = labels.loc[train_index]\n",
    "        test_labels = labels.loc[test_index]\n",
    "        \n",
    "        model = train_knn(k, train_features, train_labels)\n",
    "        train_accuracy = test(model, train_features, train_labels)\n",
    "        test_accuracy = test(model, test_features, test_labels)\n",
    "        train_accuracies.append(train_accuracy)\n",
    "        test_accuracies.append(test_accuracy)\n",
    "    \n",
    "    return train_accuracies, test_accuracies"
   ]
  },
  {
   "cell_type": "code",
   "execution_count": 86,
   "metadata": {
    "collapsed": false
   },
   "outputs": [
    {
     "data": {
      "text/plain": [
       "([1.0, 1.0, 1.0, 1.0],\n",
       " [0.9688888888888889,\n",
       "  0.9599109131403119,\n",
       "  0.9799554565701559,\n",
       "  0.9621380846325167])"
      ]
     },
     "execution_count": 86,
     "metadata": {},
     "output_type": "execute_result"
    }
   ],
   "source": [
    "one_accuracies = cross_validate(1)\n",
    "one_accuracies[:5]"
   ]
  },
  {
   "cell_type": "code",
   "execution_count": 87,
   "metadata": {
    "collapsed": false
   },
   "outputs": [
    {
     "data": {
      "text/plain": [
       "0.9838616679039842"
      ]
     },
     "execution_count": 87,
     "metadata": {},
     "output_type": "execute_result"
    }
   ],
   "source": [
    "np.mean(one_accuracies)"
   ]
  },
  {
   "cell_type": "code",
   "execution_count": 88,
   "metadata": {
    "collapsed": false
   },
   "outputs": [
    {
     "data": {
      "text/plain": [
       "0.9761632886430409"
      ]
     },
     "execution_count": 88,
     "metadata": {},
     "output_type": "execute_result"
    }
   ],
   "source": [
    "two_accuracies = cross_validate(2)\n",
    "np.mean(two_accuracies)"
   ]
  },
  {
   "cell_type": "code",
   "execution_count": 89,
   "metadata": {
    "collapsed": false
   },
   "outputs": [
    {
     "data": {
      "text/plain": [
       "[<matplotlib.lines.Line2D at 0x7f4a5eec5a90>]"
      ]
     },
     "execution_count": 89,
     "metadata": {},
     "output_type": "execute_result"
    },
    {
     "data": {
      "image/png": "[encoded data removed]",
      "text/plain": [
       "<matplotlib.figure.Figure at 0x7f4a5f0aa4e0>"
      ]
     },
     "metadata": {},
     "output_type": "display_data"
    }
   ],
   "source": [
    "k_values = list(range(1,25))\n",
    "k_train_accuracies = []\n",
    "k_test_accuracies = []\n",
    "\n",
    "for i in k_values:\n",
    "    train_accuracy,test_accuracy = cross_validate(i)\n",
    "    k_train_accuracies.append(np.mean(train_accuracy))\n",
    "    k_test_accuracies.append(np.mean(test_accuracy))\n",
    "\n",
    "plt.figure(figsize=(10,5))\n",
    "plt.title('Mean Accuracy vs. K')\n",
    "plt.plot(k_values,k_train_accuracies)\n",
    "plt.plot(k_values,k_test_accuracies,c='green')"
   ]
  },
  {
   "cell_type": "markdown",
   "metadata": {},
   "source": [
    "## 1 hidden layer neural network:"
   ]
  },
  {
   "cell_type": "code",
   "execution_count": 90,
   "metadata": {
    "collapsed": false
   },
   "outputs": [],
   "source": [
    "from sklearn.neural_network import MLPClassifier"
   ]
  },
  {
   "cell_type": "code",
   "execution_count": 91,
   "metadata": {
    "collapsed": true
   },
   "outputs": [],
   "source": [
    "def train_mlp(num_neurons, train_features, train_labels):\n",
    "    mlp = MLPClassifier(hidden_layer_sizes=num_neurons)\n",
    "    mlp.fit(train_features, train_labels)\n",
    "    return mlp"
   ]
  },
  {
   "cell_type": "code",
   "execution_count": 93,
   "metadata": {
    "collapsed": true
   },
   "outputs": [],
   "source": [
    "def cross_validate_mlp(num_neurons):\n",
    "    train_accuracies = []\n",
    "    test_accuracies = []\n",
    "    kf = KFold(n_splits=4, random_state=2)\n",
    "    for train_index, test_index in kf.split(data):\n",
    "        train_features = data.loc[train_index]\n",
    "        test_features = data.loc[test_index]\n",
    "        \n",
    "        train_labels = labels.loc[train_index]\n",
    "        test_labels = labels.loc[test_index]\n",
    "        \n",
    "        model = train_mlp(num_neurons, train_features, train_labels)\n",
    "        train_accuracy = test(model, train_features, train_labels)\n",
    "        test_accuracy = test(model, test_features, test_labels)\n",
    "        train_accuracies.append(train_accuracy)\n",
    "        test_accuracies.append(test_accuracy)\n",
    "    \n",
    "    return train_accuracies, test_accuracies"
   ]
  },
  {
   "cell_type": "code",
   "execution_count": null,
   "metadata": {
    "collapsed": false,
    "scrolled": true
   },
   "outputs": [
    {
     "name": "stderr",
     "output_type": "stream",
     "text": [
      "/dataquest/system/env/python3/lib/python3.4/site-packages/sklearn/neural_network/multilayer_perceptron.py:563: ConvergenceWarning:\n",
      "\n",
      "Stochastic Optimizer: Maximum iterations reached and the optimization hasn't converged yet.\n",
      "\n"
     ]
    },
    {
     "data": {
      "text/plain": [
       "[<matplotlib.lines.Line2D at 0x7f4a5ebb8ba8>]"
      ]
     },
     "execution_count": 94,
     "metadata": {},
     "output_type": "execute_result"
    },
    {
     "data": {
      "image/png": "[encoded data removed]",
      "text/plain": [
       "<matplotlib.figure.Figure at 0x7f4a5ef46208>"
      ]
     },
     "metadata": {},
     "output_type": "display_data"
    }
   ],
   "source": [
    "nn_train_accuracies = []\n",
    "nn_test_accuracies = []\n",
    "num_neurons = [\n",
    "    (8,),\n",
    "    (16,),\n",
    "    (32,),\n",
    "    (64,),\n",
    "    (128,),\n",
    "    (256,)\n",
    "]\n",
    "for neuron in num_neurons:\n",
    "    train_accuracies, test_accuracies = cross_validate_mlp(neuron)\n",
    "    nn_train_accuracies.append(np.mean(train_accuracies))\n",
    "    nn_test_accuracies.append(np.mean(test_accuracies))\n",
    "    \n",
    "plt.figure(figsize = (10,5))\n",
    "plt.title('Mean Accuracy vs. Number of Neurons')\n",
    "plt.plot(num_neurons, nn_train_accuracies)\n",
    "plt.plot(num_neurons, nn_test_accuracies, c='green')"
   ]
  },
  {
   "cell_type": "markdown",
   "metadata": {
    "collapsed": true
   },
   "source": [
    "Increasing the number of neurons vastly helped increase the accuracy of the neural network, going from .88 to .95.  That said, it greatly increased the compute time of the model going from seconds to multiple minutes.  It also was no more accurate than the nearest neighbors model which was much less computationally expensive.  \n",
    "\n",
    "I created a graph for both the test accuracy and training accuracy and you can see that there is up to a 9% different in accuracy between the test and training performance of the neural network, which means the model is slightly overfit.  You can see the max difference in accuracy for the nearest neighbor model is only 4% which means it is likely a better fit model."
   ]
  },
  {
   "cell_type": "markdown",
   "metadata": {},
   "source": [
    "## 2 hidden layer neural network:"
   ]
  },
  {
   "cell_type": "code",
   "execution_count": null,
   "metadata": {
    "collapsed": false
   },
   "outputs": [
    {
     "name": "stderr",
     "output_type": "stream",
     "text": [
      "/dataquest/system/env/python3/lib/python3.4/site-packages/sklearn/neural_network/multilayer_perceptron.py:563: ConvergenceWarning:\n",
      "\n",
      "Stochastic Optimizer: Maximum iterations reached and the optimization hasn't converged yet.\n",
      "\n"
     ]
    },
    {
     "data": {
      "text/plain": [
       "[<matplotlib.lines.Line2D at 0x7f4a5eb237b8>,\n",
       " <matplotlib.lines.Line2D at 0x7f4a5eb29ac8>]"
      ]
     },
     "execution_count": 95,
     "metadata": {},
     "output_type": "execute_result"
    },
    {
     "data": {
      "image/png": "[encoded data removed]",
      "text/plain": [
       "<matplotlib.figure.Figure at 0x7f4a5ebfd7f0>"
      ]
     },
     "metadata": {},
     "output_type": "display_data"
    }
   ],
   "source": [
    "nn_two_train_accuracies = []\n",
    "nn_two_test_accuracies = []\n",
    "num_neurons = [(8,8),(16,16),(32,32),(64,64),(128,128),(256,256)]\n",
    "for neuron in num_neurons:\n",
    "    train_accuracies, test_accuracies = cross_validate_mlp(neuron)\n",
    "    nn_two_train_accuracies.append(np.mean(train_accuracies))\n",
    "    nn_two_test_accuracies.append(np.mean(test_accuracies))\n",
    "    \n",
    "plt.figure(figsize = (10,5))\n",
    "plt.title('Mean Accuracy vs. Number of Neurons')\n",
    "plt.plot(num_neurons, nn_two_train_accuracies)\n",
    "plt.plot(num_neurons, nn_two_test_accuracies, c='green')"
   ]
  },
  {
   "cell_type": "markdown",
   "metadata": {},
   "source": [
    "The 2 hidden layer model was able to increase accuracy up to .96 at the max but was also required even longer to compute.  This puts the model about in line, or slightly above the nearest neighbors model, although it may not be worth the added compute time and may be worth looking at further improving the accuracy of the nearest neighbors model instead.\n",
    "\n",
    "The 2 layer network, while slightly more overfit at the very low end, is only 4%  different with 256 neurons which is just as good as the nearest neighbors model."
   ]
  },
  {
   "cell_type": "markdown",
   "metadata": {},
   "source": [
    "## 3 hidden layer neural network:"
   ]
  },
  {
   "cell_type": "code",
   "execution_count": 97,
   "metadata": {
    "collapsed": true
   },
   "outputs": [],
   "source": [
    "def cross_validate_mlp_6(num_neurons):\n",
    "    train_accuracies = []\n",
    "    test_accuracies = []\n",
    "    kf = KFold(n_splits=6, random_state=2)\n",
    "    for train_index, test_index in kf.split(data):\n",
    "        train_features = data.loc[train_index]\n",
    "        test_features = data.loc[test_index]\n",
    "        \n",
    "        train_labels = labels.loc[train_index]\n",
    "        test_labels = labels.loc[test_index]\n",
    "        \n",
    "        model = train_mlp(num_neurons, train_features, train_labels)\n",
    "        train_accuracy = test_mlp(model, train_features, train_labels)\n",
    "        test_accuracy = test_mlp(model, test_features, test_labels)\n",
    "        train_accuracies.append(train_accuracy)\n",
    "        test_accuracies.append(test_accuracy)\n",
    "    \n",
    "    return train_accuracies, test_accuracies"
   ]
  },
  {
   "cell_type": "code",
   "execution_count": 98,
   "metadata": {
    "collapsed": false
   },
   "outputs": [
    {
     "name": "stderr",
     "output_type": "stream",
     "text": [
      "/dataquest/system/env/python3/lib/python3.4/site-packages/sklearn/neural_network/multilayer_perceptron.py:563: ConvergenceWarning:\n",
      "\n",
      "Stochastic Optimizer: Maximum iterations reached and the optimization hasn't converged yet.\n",
      "\n"
     ]
    },
    {
     "data": {
      "text/plain": [
       "[<matplotlib.lines.Line2D at 0x7f4a5eaa3ef0>,\n",
       " <matplotlib.lines.Line2D at 0x7f4a5eaafa58>,\n",
       " <matplotlib.lines.Line2D at 0x7f4a5eaafc50>]"
      ]
     },
     "execution_count": 98,
     "metadata": {},
     "output_type": "execute_result"
    },
    {
     "data": {
      "image/png": "[encoded data removed]",
      "text/plain": [
       "<matplotlib.figure.Figure at 0x7f4a5ebcb470>"
      ]
     },
     "metadata": {},
     "output_type": "display_data"
    }
   ],
   "source": [
    "nn_three_train_accuracies = []\n",
    "nn_three_test_accuracies = []\n",
    "num_neurons = [(10,10,10),(64,64,64),(128,128,128)]\n",
    "for neuron in num_neurons:\n",
    "    train_accuracies, test_accuracies = cross_validate_mlp_6(neuron)\n",
    "    nn_three_train_accuracies.append(np.mean(train_accuracies))\n",
    "    nn_three_test_accuracies.append(np.mean(test_accuracies))\n",
    "    \n",
    "plt.figure(figsize = (10,5))\n",
    "plt.title('Mean Accuracy vs. Number of Neurons')\n",
    "plt.plot(num_neurons, nn_three_train_accuracies)\n",
    "plt.plot(num_neurons, nn_three_test_accuracies, c='green')"
   ]
  },
  {
   "cell_type": "markdown",
   "metadata": {},
   "source": [
    "Here, we were able to increase the low end slightly compared to a 2 layer NN and were also able to increase the accuracy of 64 and 128 neurons per layer by about 1%.  It seems as though the more layers and more neurons we add the model will continue to increase in accuracy."
   ]
  },
  {
   "cell_type": "markdown",
   "metadata": {},
   "source": [
    "## Decision tree model:"
   ]
  },
  {
   "cell_type": "code",
   "execution_count": 128,
   "metadata": {
    "collapsed": true
   },
   "outputs": [],
   "source": [
    "from sklearn.tree import DecisionTreeClassifier\n",
    "\n",
    "def train_tree(min_samples, train_features, train_labels):\n",
    "    tree = DecisionTreeClassifier(max_depth=15,min_samples_split=min_samples)\n",
    "    tree.fit(train_features, train_labels)\n",
    "    return tree"
   ]
  },
  {
   "cell_type": "code",
   "execution_count": 116,
   "metadata": {
    "collapsed": true
   },
   "outputs": [],
   "source": [
    "def cross_validate_tree(max_depth):\n",
    "    train_accuracies = []\n",
    "    test_accuracies = []\n",
    "    kf = KFold(n_splits=10, random_state=2)\n",
    "    for train_index, test_index in kf.split(data):\n",
    "        train_features = data.loc[train_index]\n",
    "        test_features = data.loc[test_index]\n",
    "        \n",
    "        train_labels = labels.loc[train_index]\n",
    "        test_labels = labels.loc[test_index]\n",
    "        \n",
    "        model = train_tree(max_depth, train_features, train_labels)\n",
    "        train_accuracy = test(model, train_features, train_labels)\n",
    "        test_accuracy = test(model, test_features, test_labels)\n",
    "        train_accuracies.append(train_accuracy)\n",
    "        test_accuracies.append(test_accuracy)\n",
    "    \n",
    "    return train_accuracies, test_accuracies"
   ]
  },
  {
   "cell_type": "code",
   "execution_count": 129,
   "metadata": {
    "collapsed": false
   },
   "outputs": [
    {
     "data": {
      "text/plain": [
       "[<matplotlib.lines.Line2D at 0x7f4a5dcfabe0>]"
      ]
     },
     "execution_count": 129,
     "metadata": {},
     "output_type": "execute_result"
    },
    {
     "data": {
      "image/png": "[encoded data removed]",
      "text/plain": [
       "<matplotlib.figure.Figure at 0x7f4a5e1bcf28>"
      ]
     },
     "metadata": {},
     "output_type": "display_data"
    }
   ],
   "source": [
    "max_depth = list(range(1,50))\n",
    "tree_train_accuracies = []\n",
    "tree_test_accuracies = []\n",
    "\n",
    "for i in max_depth:\n",
    "    train_accuracies, test_accuracies = cross_validate_tree(i)\n",
    "    tree_train_accuracies.append(np.mean(train_accuracies))\n",
    "    tree_test_accuracies.append(np.mean(test_accuracies))\n",
    "    \n",
    "plt.figure(figsize = (10,5))\n",
    "plt.title('Mean Accuracy vs. Number of Neurons')\n",
    "plt.plot(max_depth, tree_train_accuracies)\n",
    "plt.plot(max_depth, tree_test_accuracies, c='green')"
   ]
  },
  {
   "cell_type": "markdown",
   "metadata": {},
   "source": [
    "With basic decision tree model we were unable to prevent the model from overfitting while also getting good accuracy.  One solution we will try next is using a random forest to see if that helps reduce the overfitting problem and increase the accuracy of the model."
   ]
  },
  {
   "cell_type": "markdown",
   "metadata": {},
   "source": [
    "## Random forest model:"
   ]
  },
  {
   "cell_type": "code",
   "execution_count": 152,
   "metadata": {
    "collapsed": true
   },
   "outputs": [],
   "source": [
    "from sklearn.ensemble import RandomForestClassifier\n",
    "\n",
    "def train_forest(train_features, train_labels):\n",
    "    forest = RandomForestClassifier(n_estimators=30,max_depth=15,min_samples_split=10)\n",
    "    forest.fit(train_features, train_labels)\n",
    "    return forest"
   ]
  },
  {
   "cell_type": "code",
   "execution_count": 156,
   "metadata": {
    "collapsed": true
   },
   "outputs": [],
   "source": [
    "def cross_validate_forest():\n",
    "    train_accuracies = []\n",
    "    test_accuracies = []\n",
    "    kf = KFold(n_splits=34, random_state=2)\n",
    "    for train_index, test_index in kf.split(data):\n",
    "        train_features = data.loc[train_index]\n",
    "        test_features = data.loc[test_index]\n",
    "        \n",
    "        train_labels = labels.loc[train_index]\n",
    "        test_labels = labels.loc[test_index]\n",
    "        \n",
    "        model = train_forest(train_features, train_labels)\n",
    "        train_accuracy = test(model, train_features, train_labels)\n",
    "        test_accuracy = test(model, test_features, test_labels)\n",
    "        train_accuracies.append(train_accuracy)\n",
    "        test_accuracies.append(test_accuracy)\n",
    "    \n",
    "    return train_accuracies, test_accuracies"
   ]
  },
  {
   "cell_type": "code",
   "execution_count": 158,
   "metadata": {
    "collapsed": false
   },
   "outputs": [
    {
     "name": "stdout",
     "output_type": "stream",
     "text": [
      "[0.9987858688071848]\n",
      "[0.9615384615384616]\n"
     ]
    }
   ],
   "source": [
    "forest_train_accuracies = []\n",
    "forest_test_accuracies = []\n",
    "\n",
    "train_accuracies, test_accuracies = cross_validate_forest()\n",
    "forest_train_accuracies.append(np.mean(train_accuracies))\n",
    "forest_test_accuracies.append(np.mean(test_accuracies))\n",
    "\n",
    "print(forest_train_accuracies)\n",
    "print(forest_test_accuracies)\n",
    "#plt.figure(figsize = (10,5))\n",
    "#plt.title('Mean Accuracy vs. Number of Neurons')\n",
    "#plt.plot(max_depth, forest_train_accuracies)\n",
    "#plt.plot(max_depth, forest_test_accuracies, c='green')"
   ]
  },
  {
   "cell_type": "markdown",
   "metadata": {},
   "source": [
    "With the random forest model we were able to get our accuracy just as good as the nearest neighbors and 3 layer neural network.  We had a 96% accuracy using this which is the best we got for the other models as well."
   ]
  },
  {
   "cell_type": "code",
   "execution_count": null,
   "metadata": {
    "collapsed": true
   },
   "outputs": [],
   "source": []
  }
 ],
 "metadata": {
  "anaconda-cloud": {},
  "kernelspec": {
   "display_name": "Python 3",
   "language": "python",
   "name": "python3"
  },
  "language_info": {
   "codemirror_mode": {
    "name": "ipython",
    "version": 3
   },
   "file_extension": ".py",
   "mimetype": "text/x-python",
   "name": "python",
   "nbconvert_exporter": "python",
   "pygments_lexer": "ipython3",
   "version": "3.4.3"
  }
 },
 "nbformat": 4,
 "nbformat_minor": 2
}
